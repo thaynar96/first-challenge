{
  "nbformat": 4,
  "nbformat_minor": 0,
  "metadata": {
    "colab": {
      "name": "Exercicios_Codelab_Aula_04.ipynb",
      "provenance": [],
      "collapsed_sections": [],
      "include_colab_link": true
    },
    "kernelspec": {
      "name": "python3",
      "display_name": "Python 3"
    },
    "language_info": {
      "name": "python"
    }
  },
  "cells": [
    {
      "cell_type": "markdown",
      "metadata": {
        "id": "view-in-github",
        "colab_type": "text"
      },
      "source": [
        "<a href=\"https://colab.research.google.com/github/thaynar96/first-challenge/blob/main/Exercicios_Codelab_Aula_04.ipynb\" target=\"_parent\"><img src=\"https://colab.research.google.com/assets/colab-badge.svg\" alt=\"Open In Colab\"/></a>"
      ]
    },
    {
      "cell_type": "markdown",
      "metadata": {
        "id": "SW-cnnj3AAlE"
      },
      "source": [
        "## Exercício 01\n",
        "\n",
        "Faça um programa que pergunte ao usuário um número e valide se o numero é par ou impar:\n",
        "\n",
        "* Crie uma variável para receber o valor, com conversão para int\n",
        "* Para um número ser par, a divisão dele por 2 tem que dar resto 0"
      ]
    },
    {
      "cell_type": "code",
      "metadata": {
        "id": "ZeuCDPZQFT9T"
      },
      "source": [
        "numero = int(input(\"Digite um número: \"))\n",
        "\n",
        "if numero % 2 ==0:\n",
        "  print(f\"O numero {numero}  é par\")\n",
        "else:\n",
        "  print(f\"O numero{numero}é ímpar\")"
      ],
      "execution_count": null,
      "outputs": []
    },
    {
      "cell_type": "markdown",
      "metadata": {
        "id": "jXVUBuN3DcU-"
      },
      "source": [
        "## Exercício 02\n",
        "\n",
        "> Parte 1\n",
        "\n",
        "Faça um script que peça um valor e mostre na tela se o valor é positivo ou negativo.\n",
        "\n",
        "> Parte 2\n",
        "\n",
        "Agora implemente a funcionalidade de não aceitar o número 0, no input. (esse vai além do explicado até agora)"
      ]
    },
    {
      "cell_type": "code",
      "metadata": {
        "id": "bsM4V6SeHwJr"
      },
      "source": [
        "valor = int(input(\"Escreva um valor:\"))\n",
        "\n",
        "if valor >0 :\n",
        "  print(\"O valor é positivo\")\n",
        "elif valor == 0:\n",
        "  print(\"Digite outro número\")\n",
        "else:\n",
        "  print(\"O valor é negativo\")\n"
      ],
      "execution_count": null,
      "outputs": []
    },
    {
      "cell_type": "markdown",
      "metadata": {
        "id": "90mUizLXOKd3"
      },
      "source": [
        "## Exercício 03\n",
        "\n",
        "Faça um programa que peça dois números, imprima o maior deles ou imprima \"Numeros iguais\" se os números forem iguais."
      ]
    },
    {
      "cell_type": "code",
      "metadata": {
        "id": "7yXB2kfUVYuD"
      },
      "source": [
        "n1 =int(input(\"Digite o primeiro número: \"))\n",
        "n2 = int(input(\"Digite o segundo número: \"))\n",
        "\n",
        "\n",
        "if  n1 == n2:\n",
        "  print(\"Numeros iguais\")\n",
        "elif  n1>n2:\n",
        "  print(n1)\n",
        "else:\n",
        "  print(n2)"
      ],
      "execution_count": null,
      "outputs": []
    },
    {
      "cell_type": "markdown",
      "metadata": {
        "id": "9BATv7tsOWOI"
      },
      "source": [
        "## Exercício 04\n",
        "\n",
        "Crie um programa que verifique se uma letra digitada é \"F\" ou \"M\". Conforme a letra, escrever: F - Feminino, M - Masculino, caso escreva outra letra: Sexo Biológico Inválido."
      ]
    },
    {
      "cell_type": "code",
      "metadata": {
        "id": "pRm8kyI7Wnp4"
      },
      "source": [
        "letra = input(\"Digite o seu sexo biológico? [F/M]: \").upper().strip()[0]\n",
        "if letra == 'F':\n",
        "  print(\"Feminino\")\n",
        "elif letra == 'M':\n",
        "  print(\"Masculino\")\n",
        "else:\n",
        "  print(\"Sexo biológico inválido.\")\n",
        "    "
      ],
      "execution_count": null,
      "outputs": []
    },
    {
      "cell_type": "markdown",
      "metadata": {
        "id": "WX2j2ITtY3G5"
      },
      "source": [
        "### Exercício 05\n",
        "\n",
        "Crie um programa em Python que peça a nota do aluno, que deve ser um float entre 0.00 e 10.0\n",
        "\n",
        "* Se a nota for menor que 6.0, deve exibir a nota F.\n",
        "\n",
        "* Se a nota for de 6.0 até 7.0, deve exibir a nota D.\n",
        "\n",
        "* Se a nota for entre 7.0 e 8.0, deve exibir a nota C.\n",
        "\n",
        "* Se a nota for entre 8.0 e 9.0, deve exibir a nota B.\n",
        "\n",
        "* Por fim, se for entre 9.0 e 10.0, deve exibir um belo de um A."
      ]
    },
    {
      "cell_type": "code",
      "metadata": {
        "id": "4CjqLlFWY5Z-",
        "colab": {
          "base_uri": "https://localhost:8080/"
        },
        "outputId": "53a531dc-311d-4a5e-c9df-769a276aed4e"
      },
      "source": [
        "nota = float(input(\"Digite uma nota entre 0 e 10: \"))\n",
        "\n",
        "if nota<0 or nota>10:\n",
        "  print(\"Nota Inválida. Digite uma nota entre 0 e 10\")\n",
        "elif nota< 6:\n",
        "  print(f\"Sua nota é : F \")\n",
        "elif 6<=nota<=7:\n",
        "  print(f\"Sua nota é : D \")\n",
        "elif nota>7 and nota<=8:\n",
        "  print(\"Sua nota é : C \")\n",
        "elif nota>8 and nota<=9:\n",
        "  print(\"Sua nota é : B \")\n",
        "else:\n",
        "  print(\"Sua nota é : A\")"
      ],
      "execution_count": null,
      "outputs": [
        {
          "output_type": "stream",
          "text": [
            "Digite uma nota entre 0 e 10: -5\n",
            "Nota Inválida. Digite uma nota entre 0 e 10\n"
          ],
          "name": "stdout"
        }
      ]
    },
    {
      "cell_type": "markdown",
      "metadata": {
        "id": "xep4W_T-s-Ra"
      },
      "source": [
        "# *Mini Projetos*"
      ]
    },
    {
      "cell_type": "markdown",
      "metadata": {
        "id": "4YbMlSEZG7UM"
      },
      "source": [
        "## **PROJETO 01**\n",
        "\n",
        "*   Escreva um programa que receba uma string digitada pelo usuário;\n",
        "*   Caso a string seja \"medieval\", exiba no console \"espada\";\n",
        "*   Caso contrário, se a string for \"futurista\", exiba no console \"sabre de luz\";\n",
        "*   Caso contrário, exiba no console \"Tente novamente\""
      ]
    },
    {
      "cell_type": "code",
      "metadata": {
        "id": "tn9QH5pVG8Rq",
        "colab": {
          "base_uri": "https://localhost:8080/"
        },
        "outputId": "8f567b49-20b8-49bb-96cf-b8e133819c89"
      },
      "source": [
        "# Resposta:\n",
        "string = input(\"Digite 'medieval' ou 'futurista' : \").lower().strip()\n",
        "\n",
        "if string == 'medieval':\n",
        "  print(\"espada\")\n",
        "elif string=='futurista':\n",
        "  print(\"sabre de luz\")\n",
        "else:\n",
        "  print(\"Tente novamente\")"
      ],
      "execution_count": null,
      "outputs": [
        {
          "output_type": "stream",
          "text": [
            "Digite 'medieval' ou 'futurista' : MEDIEVAL\n",
            "espada\n"
          ],
          "name": "stdout"
        }
      ]
    },
    {
      "cell_type": "markdown",
      "metadata": {
        "id": "zUGk1OiNHDik"
      },
      "source": [
        "## **PROJETO 02**\n",
        "\n",
        "* Escreva um programa que receba um ataque de espada ou sabre digitada pelo usuário;\n",
        "\n",
        "* Caso o ataque seja \"espada\", exiba no console \"VOCÊ AINDA NÃO MATOU O CHEFÃO\";\n",
        "\n",
        "* Caso contrário, se o ataque for \"sabre\", exiba no console \"VOCÊ DERROTOU O CHEFÃO COM O SABRE DE LUZ\";\n",
        "\n",
        "* Caso contrário, exiba no console \"ATAQUE NOVAMENTE\""
      ]
    },
    {
      "cell_type": "code",
      "metadata": {
        "id": "eNZokIIOHHkp"
      },
      "source": [
        "# Resposta:\n",
        "ataque = input(\"Você quer atacar de espada ou sabre? \").lower().strip()\n",
        "\n",
        "if ataque == 'espada':\n",
        "  print(\"VOCÊ AINDA NÃO MATOU O CHEFÃO\")\n",
        "elif ataque== 'sabre':\n",
        "  print(\"VOCÊ DERROTOU O CHEFÃO COM O SABRE DE LUZ\")\n",
        "else:\n",
        "  print(\"ATAQUE NOVAMENTE\")"
      ],
      "execution_count": null,
      "outputs": []
    },
    {
      "cell_type": "markdown",
      "metadata": {
        "id": "NRhLAMa6ZfqU"
      },
      "source": [
        "## **DESAFIO 01**\n",
        "\n",
        "**Reajuste salarial**\n",
        "\n",
        "As empresas @.com resolveram dar um aumento de salário aos seus colaboradores e lhe contrataram para desenvolver o programa que calculará os reajustes.\n",
        "\n",
        "Faça um programa que recebe o salário de um colaborador e o reajuste segundo o seguinte critério, baseado no salário atual:\n",
        "* salários até R$ 280,00 (incluindo) : aumento de 20%\n",
        "\n",
        "* salários entre R\\$ 280,00 e R$ 700,00 : aumento de 15%\n",
        "\n",
        "* salários entre R\\$ 700,00 e R$ 1500,00 : aumento de 10%\n",
        "\n",
        "* salários de R$ 1500,00 em diante : aumento de 5% \n",
        "\n",
        "Após o aumento ser realizado, informe na tela:\n",
        "* o salário antes do reajuste;\n",
        "\n",
        "* o percentual de aumento aplicado;\n",
        "\n",
        "* o valor do aumento;\n",
        "\n",
        "* o novo salário, após o aumento.\""
      ]
    },
    {
      "cell_type": "code",
      "metadata": {
        "id": "VpC5oZINZXzt",
        "colab": {
          "base_uri": "https://localhost:8080/"
        },
        "outputId": "151544e2-e44e-45f3-cf0a-edb49c30cf76"
      },
      "source": [
        "salario = float(input(\"Digite o seu salário atual em reais:\"))\n",
        "\n",
        "if salario <= 280:\n",
        "  calculo = salario * 1.2\n",
        "  print(f\"Seu salário antes do reajuste era {salario:}\\nO percertual de aumento aplicado é de 20%\\nO valor do aumento é de {salario *0.2}\\nO novo salário, após o aumento é {calculo:.2f}\")\n",
        "elif salario> 280 and salario<700:\n",
        "  calculo = salario * 1.15\n",
        "  print(f\"Seu salário antes do reajuste era {salario:.2f}\\nO percertual de aumento aplicado é de 15%\\nO valor do aumento é de {salario *0.15}\\nO novo salário, após o aumento é {calculo:.2f}\")\n",
        "elif salario> 700 and salario<1500:\n",
        "  calculo = salario * 1.10\n",
        "  print(f\"Seu salário antes do reajuste era {salario:.2f}\\nO percertual de aumento aplicado é de 10%\\nO valor do aumento é de {salario *0.10}\\nO novo salário, após o aumento é {calculo:.2f}\")\n",
        "else:\n",
        "  calculo = salario * 1.05\n",
        "  print(f\"Seu salário antes do reajuste era {salario:.2f}\\nO percertual de aumento aplicado é de 5%\\nO valor do aumento é de {salario *0.05}\\nO novo salário, após o aumento é {calculo:.2f}\")"
      ],
      "execution_count": null,
      "outputs": [
        {
          "output_type": "stream",
          "text": [
            "Digite o seu salário atual em reais:100\n",
            "Seu salário antes do reajuste era 100.0\n",
            "O percertual de aumento aplicado é de 20%\n",
            "O valor do aumento é de 20.0\n",
            "O novo salário, após o aumento é 120.00\n"
          ],
          "name": "stdout"
        }
      ]
    },
    {
      "cell_type": "markdown",
      "metadata": {
        "id": "HvThpbU4aBGy"
      },
      "source": [
        "## **DESAFIO 02**\n",
        "\n",
        "**Jogo da adivinhação**\n",
        "\n",
        "Escreva um programa que faça o computador “pensar” em um número inteiro entre 0 e 10 e peça para o usuário tentar descobrir qual foi o número escolhido pelo computador. O programa deverá escrever na tela se o usuário venceu ou perdeu."
      ]
    },
    {
      "cell_type": "code",
      "metadata": {
        "id": "TVeHZbyQZIzO",
        "colab": {
          "base_uri": "https://localhost:8080/"
        },
        "outputId": "67f3cf50-4f1d-4c88-e7d7-9d4e151c11bc"
      },
      "source": [
        "import random\n",
        "\n",
        "numero= random.randint(0,10)\n",
        "usuario = int(input(\"Qual o número inteiro entre 0 e 10 você acha que o computador escolheu? \"))\n",
        "\n",
        "if numero == usuario:\n",
        "  print(\"Você venceu\")\n",
        "else:\n",
        "  print(\"Você perdeu\")"
      ],
      "execution_count": null,
      "outputs": [
        {
          "output_type": "stream",
          "text": [
            "Qual o número inteiro entre 0 e 10 você acha que o computador escolheu? 5\n",
            "Você perdeu\n"
          ],
          "name": "stdout"
        }
      ]
    },
    {
      "cell_type": "markdown",
      "metadata": {
        "id": "mjLFAUooaOH1"
      },
      "source": [
        "## **Desafio 03**\n",
        "\n",
        "**Caixa eletrônico**\n",
        "\n",
        "Faça um Programa para um caixa eletrônico. O programa deverá perguntar ao usuário a valor do saque e depois informar quantas notas de cada valor serão fornecidas. As notas disponíveis serão as de 1, 5, 10, 50 e 100 reais. O valor mínimo é de 10 reais e o máximo de 600 reais. O programa não deve se preocupar com a quantidade de notas existentes na máquina.\n",
        "\n",
        "* Exemplo 1: Para sacar a quantia de 256 reais, o programa fornece duas notas de 100, uma nota de 50, uma nota de 5 e uma nota de 1;\n",
        "\n",
        "* Exemplo 2: Para sacar a quantia de 399 reais, o programa fornece três notas de 100, uma nota de 50, quatro notas de 10, uma nota de 5 e quatro notas de 1.\n",
        "\n"
      ]
    },
    {
      "cell_type": "code",
      "metadata": {
        "id": "sH65bTx-ZMLh",
        "colab": {
          "base_uri": "https://localhost:8080/"
        },
        "outputId": "60474ece-1cee-4465-f86f-8eb03d6d8b88"
      },
      "source": [
        "saque = int(input(\"Qual é o valor do saque?\"))\n",
        "\n",
        "\n",
        "\n",
        "if saque == 10 or saque > 600:\n",
        "  print(\"O valor minimo é de R$10 reais e o máximo de R$600. Tente outro saque\")\n",
        "else:\n",
        "  #cem - quantas notas de 100 cabem no valor? coloquei em int para que o valor nao fique quebrado quando a divisão não for exata. EX: saque 230\n",
        "  nota100 = int(saque / 100)\n",
        "  novosaque = saque - (nota100*100)\n",
        "  # cinquenta -  o que sobrou da subtração do valor do saque menos as notas de 100. EX: Sobrou 30 dos 200 de cima. 30 não é resulta em um inteiro da divisao por 50. Logo será 0.\n",
        "  nota50 = int(novosaque/50)\n",
        "  novosaque = novosaque - (nota50*50)\n",
        "  #dez\n",
        "  nota10 = int(novosaque/10) # 30 é divisivel por 10. Serão 3 cedulas e não sobrará mais nada do valor. \n",
        "  novosaque = novosaque - (nota10*10)\n",
        "  #cinco\n",
        "  nota5 = int(novosaque/5)\n",
        "  novosaque = novosaque - (nota5*5)\n",
        "  #um\n",
        "  nota1 = novosaque\n",
        "  total = saque\n",
        "  print(f\"Para sacar a quantia de {total} reais, o programa fornece {nota100} notas de 100 reais, {nota50} nota de 50, {nota10} notas de 10, {nota5} nota de 5, e {nota1} notas de 1\")\n",
        "\n",
        "  \n"
      ],
      "execution_count": null,
      "outputs": [
        {
          "output_type": "stream",
          "text": [
            "Qual é o valor do saque?399\n",
            "Para sacar a quantia de 399 reais, o programa fornece 3 notas de 100 reais, 1 nota de 50, 4 notas de 10, 1 nota de 5, e 4 notas de 1\n"
          ],
          "name": "stdout"
        }
      ]
    },
    {
      "cell_type": "code",
      "metadata": {
        "id": "YXFzez1pvomk"
      },
      "source": [
        ""
      ],
      "execution_count": null,
      "outputs": []
    }
  ]
}